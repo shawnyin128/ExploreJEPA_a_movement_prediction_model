{
 "cells": [
  {
   "cell_type": "code",
   "execution_count": 25,
   "id": "c980b36c-ecac-4271-a13e-76c6b55247c0",
   "metadata": {},
   "outputs": [],
   "source": [
    "import torch"
   ]
  },
  {
   "cell_type": "code",
   "execution_count": 26,
   "id": "940eeaf9-7ed2-4d09-8bdb-42fb87464d93",
   "metadata": {},
   "outputs": [],
   "source": [
    "from dataset import create_wall_dataloader"
   ]
  },
  {
   "cell_type": "code",
   "execution_count": 27,
   "id": "6c957ddd-2bee-4dc7-959d-5f612ae21bc7",
   "metadata": {},
   "outputs": [],
   "source": [
    "train_loader = create_wall_dataloader(\"/scratch/DL25SP/train\")"
   ]
  },
  {
   "cell_type": "code",
   "execution_count": 24,
   "id": "02de9c54-2bc7-4f56-a0a9-14e67829ba5f",
   "metadata": {},
   "outputs": [
    {
     "name": "stdout",
     "output_type": "stream",
     "text": [
      "torch.Size([64, 1, 2, 65, 65])\n",
      "torch.Size([64, 1, 1, 65, 65])\n",
      "torch.Size([64, 1, 1, 65, 65])\n",
      "torch.Size([64, 16, 2, 65, 65])\n",
      "torch.Size([64, 1, 16, 65, 65])\n",
      "torch.Size([64, 1, 16, 65, 65])\n",
      "torch.Size([64, 16, 2])\n"
     ]
    }
   ],
   "source": [
    "for data in train_loader:\n",
    "    init_state = data.states[:,0,:,:,:].unsqueeze(dim=1)\n",
    "    init_state_agent = init_state[:, :, 0, :, :].unsqueeze(dim=1)\n",
    "    init_state_env = init_state[:, :, 1, :, :].unsqueeze(dim=1)\n",
    "    \n",
    "    later_state = data.states[:,1:,:,:,:]\n",
    "    later_state_agent = later_state[:, :, 0, :, :].unsqueeze(dim=1)\n",
    "    later_state_env = later_state[:, :, 1, :, :].unsqueeze(dim=1)\n",
    "    \n",
    "    print(init_state.shape)\n",
    "    print(init_state_agent.shape)\n",
    "    print(init_state_env.shape)\n",
    "    \n",
    "    print(later_state.shape)\n",
    "    print(later_state_agent.shape)\n",
    "    print(later_state_env.shape)\n",
    "\n",
    "    print(data.actions.shape)\n",
    "    \n",
    "    break"
   ]
  },
  {
   "cell_type": "code",
   "execution_count": null,
   "id": "ce96e95a-9e91-4ddc-a2bd-58416fbf686c",
   "metadata": {},
   "outputs": [],
   "source": []
  }
 ],
 "metadata": {
  "kernelspec": {
   "display_name": "dl_base",
   "language": "python",
   "name": "dl_base"
  },
  "language_info": {
   "codemirror_mode": {
    "name": "ipython",
    "version": 3
   },
   "file_extension": ".py",
   "mimetype": "text/x-python",
   "name": "python",
   "nbconvert_exporter": "python",
   "pygments_lexer": "ipython3",
   "version": "3.9.0"
  }
 },
 "nbformat": 4,
 "nbformat_minor": 5
}
