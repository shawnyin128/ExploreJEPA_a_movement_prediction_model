{
 "cells": [
  {
   "cell_type": "code",
   "execution_count": 1,
   "id": "c3292816-0d59-4214-8f49-247d629fbcee",
   "metadata": {},
   "outputs": [],
   "source": [
    "import sys\n",
    "import os\n",
    "\n",
    "sys.path.append(os.path.abspath(os.path.join(os.getcwd(), '..')))"
   ]
  },
  {
   "cell_type": "code",
   "execution_count": 2,
   "id": "3c12eb03-832f-4297-a141-4af356744316",
   "metadata": {},
   "outputs": [],
   "source": [
    "\n",
    "import torch.nn as nn\n",
    "\n",
    "from model.JEPA import ExploreJEPA\n",
    "from dataset import create_wall_dataloader"
   ]
  },
  {
   "cell_type": "code",
   "execution_count": 3,
   "id": "e156175a-06f0-4424-b144-49d626b3b4e2",
   "metadata": {},
   "outputs": [],
   "source": [
    "train_loader = create_wall_dataloader(\"/scratch/DL25SP/train\")"
   ]
  },
  {
   "cell_type": "code",
   "execution_count": 4,
   "id": "2e80a04b-df6c-4bd6-a04e-7fee552a9be4",
   "metadata": {},
   "outputs": [],
   "source": [
    "import torch\n",
    "import gc\n",
    "\n",
    "gc.collect()\n",
    "torch.cuda.empty_cache()"
   ]
  },
  {
   "cell_type": "code",
   "execution_count": 5,
   "id": "d30eb56f-a13f-4353-bf96-59959966f6f5",
   "metadata": {},
   "outputs": [
    {
     "data": {
      "text/plain": [
       "ExploreJEPA(\n",
       "  (init_state_encoder): StateEncoder(\n",
       "    (agent_pwConv): Conv2d(1, 16, kernel_size=(1, 1), stride=(1, 1), bias=False)\n",
       "    (agent_blocks): Sequential(\n",
       "      (0): ConvNextBlock(\n",
       "        (dwConv): Conv2d(16, 16, kernel_size=(7, 7), stride=(1, 1), padding=(3, 3), groups=16, bias=False)\n",
       "        (ln): LayerNorm((16,), eps=1e-05, elementwise_affine=True)\n",
       "        (pwConv4): Conv2d(16, 64, kernel_size=(1, 1), stride=(1, 1), bias=False)\n",
       "        (gelu): GELU(approximate='none')\n",
       "        (pwConv): Conv2d(64, 16, kernel_size=(1, 1), stride=(1, 1), bias=False)\n",
       "      )\n",
       "      (1): ConvNextBlock(\n",
       "        (dwConv): Conv2d(16, 16, kernel_size=(7, 7), stride=(1, 1), padding=(3, 3), groups=16, bias=False)\n",
       "        (ln): LayerNorm((16,), eps=1e-05, elementwise_affine=True)\n",
       "        (pwConv4): Conv2d(16, 64, kernel_size=(1, 1), stride=(1, 1), bias=False)\n",
       "        (gelu): GELU(approximate='none')\n",
       "        (pwConv): Conv2d(64, 16, kernel_size=(1, 1), stride=(1, 1), bias=False)\n",
       "      )\n",
       "      (2): ConvNextBlock(\n",
       "        (dwConv): Conv2d(16, 16, kernel_size=(7, 7), stride=(1, 1), padding=(3, 3), groups=16, bias=False)\n",
       "        (ln): LayerNorm((16,), eps=1e-05, elementwise_affine=True)\n",
       "        (pwConv4): Conv2d(16, 64, kernel_size=(1, 1), stride=(1, 1), bias=False)\n",
       "        (gelu): GELU(approximate='none')\n",
       "        (pwConv): Conv2d(64, 16, kernel_size=(1, 1), stride=(1, 1), bias=False)\n",
       "      )\n",
       "    )\n",
       "    (env_pwConv): Conv2d(1, 16, kernel_size=(1, 1), stride=(1, 1), bias=False)\n",
       "    (env_blocks): Sequential(\n",
       "      (0): ConvNextBlock(\n",
       "        (dwConv): Conv2d(16, 16, kernel_size=(7, 7), stride=(1, 1), padding=(3, 3), groups=16, bias=False)\n",
       "        (ln): LayerNorm((16,), eps=1e-05, elementwise_affine=True)\n",
       "        (pwConv4): Conv2d(16, 64, kernel_size=(1, 1), stride=(1, 1), bias=False)\n",
       "        (gelu): GELU(approximate='none')\n",
       "        (pwConv): Conv2d(64, 16, kernel_size=(1, 1), stride=(1, 1), bias=False)\n",
       "      )\n",
       "      (1): ConvNextBlock(\n",
       "        (dwConv): Conv2d(16, 16, kernel_size=(7, 7), stride=(1, 1), padding=(3, 3), groups=16, bias=False)\n",
       "        (ln): LayerNorm((16,), eps=1e-05, elementwise_affine=True)\n",
       "        (pwConv4): Conv2d(16, 64, kernel_size=(1, 1), stride=(1, 1), bias=False)\n",
       "        (gelu): GELU(approximate='none')\n",
       "        (pwConv): Conv2d(64, 16, kernel_size=(1, 1), stride=(1, 1), bias=False)\n",
       "      )\n",
       "      (2): ConvNextBlock(\n",
       "        (dwConv): Conv2d(16, 16, kernel_size=(7, 7), stride=(1, 1), padding=(3, 3), groups=16, bias=False)\n",
       "        (ln): LayerNorm((16,), eps=1e-05, elementwise_affine=True)\n",
       "        (pwConv4): Conv2d(16, 64, kernel_size=(1, 1), stride=(1, 1), bias=False)\n",
       "        (gelu): GELU(approximate='none')\n",
       "        (pwConv): Conv2d(64, 16, kernel_size=(1, 1), stride=(1, 1), bias=False)\n",
       "      )\n",
       "    )\n",
       "    (agent_fc): Linear(in_features=67600, out_features=256, bias=True)\n",
       "    (env_fc): Linear(in_features=67600, out_features=256, bias=True)\n",
       "    (agent_dropout): Dropout(p=0.1, inplace=False)\n",
       "    (env_dropout): Dropout(p=0.1, inplace=False)\n",
       "  )\n",
       "  (later_state_encoder): StateEncoder(\n",
       "    (agent_pwConv): Conv2d(1, 16, kernel_size=(1, 1), stride=(1, 1), bias=False)\n",
       "    (agent_blocks): Sequential(\n",
       "      (0): ConvNextBlock(\n",
       "        (dwConv): Conv2d(16, 16, kernel_size=(7, 7), stride=(1, 1), padding=(3, 3), groups=16, bias=False)\n",
       "        (ln): LayerNorm((16,), eps=1e-05, elementwise_affine=True)\n",
       "        (pwConv4): Conv2d(16, 64, kernel_size=(1, 1), stride=(1, 1), bias=False)\n",
       "        (gelu): GELU(approximate='none')\n",
       "        (pwConv): Conv2d(64, 16, kernel_size=(1, 1), stride=(1, 1), bias=False)\n",
       "      )\n",
       "      (1): ConvNextBlock(\n",
       "        (dwConv): Conv2d(16, 16, kernel_size=(7, 7), stride=(1, 1), padding=(3, 3), groups=16, bias=False)\n",
       "        (ln): LayerNorm((16,), eps=1e-05, elementwise_affine=True)\n",
       "        (pwConv4): Conv2d(16, 64, kernel_size=(1, 1), stride=(1, 1), bias=False)\n",
       "        (gelu): GELU(approximate='none')\n",
       "        (pwConv): Conv2d(64, 16, kernel_size=(1, 1), stride=(1, 1), bias=False)\n",
       "      )\n",
       "      (2): ConvNextBlock(\n",
       "        (dwConv): Conv2d(16, 16, kernel_size=(7, 7), stride=(1, 1), padding=(3, 3), groups=16, bias=False)\n",
       "        (ln): LayerNorm((16,), eps=1e-05, elementwise_affine=True)\n",
       "        (pwConv4): Conv2d(16, 64, kernel_size=(1, 1), stride=(1, 1), bias=False)\n",
       "        (gelu): GELU(approximate='none')\n",
       "        (pwConv): Conv2d(64, 16, kernel_size=(1, 1), stride=(1, 1), bias=False)\n",
       "      )\n",
       "    )\n",
       "    (env_pwConv): Conv2d(1, 16, kernel_size=(1, 1), stride=(1, 1), bias=False)\n",
       "    (env_blocks): Sequential(\n",
       "      (0): ConvNextBlock(\n",
       "        (dwConv): Conv2d(16, 16, kernel_size=(7, 7), stride=(1, 1), padding=(3, 3), groups=16, bias=False)\n",
       "        (ln): LayerNorm((16,), eps=1e-05, elementwise_affine=True)\n",
       "        (pwConv4): Conv2d(16, 64, kernel_size=(1, 1), stride=(1, 1), bias=False)\n",
       "        (gelu): GELU(approximate='none')\n",
       "        (pwConv): Conv2d(64, 16, kernel_size=(1, 1), stride=(1, 1), bias=False)\n",
       "      )\n",
       "      (1): ConvNextBlock(\n",
       "        (dwConv): Conv2d(16, 16, kernel_size=(7, 7), stride=(1, 1), padding=(3, 3), groups=16, bias=False)\n",
       "        (ln): LayerNorm((16,), eps=1e-05, elementwise_affine=True)\n",
       "        (pwConv4): Conv2d(16, 64, kernel_size=(1, 1), stride=(1, 1), bias=False)\n",
       "        (gelu): GELU(approximate='none')\n",
       "        (pwConv): Conv2d(64, 16, kernel_size=(1, 1), stride=(1, 1), bias=False)\n",
       "      )\n",
       "      (2): ConvNextBlock(\n",
       "        (dwConv): Conv2d(16, 16, kernel_size=(7, 7), stride=(1, 1), padding=(3, 3), groups=16, bias=False)\n",
       "        (ln): LayerNorm((16,), eps=1e-05, elementwise_affine=True)\n",
       "        (pwConv4): Conv2d(16, 64, kernel_size=(1, 1), stride=(1, 1), bias=False)\n",
       "        (gelu): GELU(approximate='none')\n",
       "        (pwConv): Conv2d(64, 16, kernel_size=(1, 1), stride=(1, 1), bias=False)\n",
       "      )\n",
       "    )\n",
       "    (agent_fc): Linear(in_features=67600, out_features=256, bias=True)\n",
       "    (env_fc): Linear(in_features=67600, out_features=256, bias=True)\n",
       "    (agent_dropout): Dropout(p=0.1, inplace=False)\n",
       "    (env_dropout): Dropout(p=0.1, inplace=False)\n",
       "  )\n",
       "  (state_predictor): StatePredictor(\n",
       "    (linear1): Linear(in_features=258, out_features=1024, bias=True)\n",
       "    (relu1): ReLU()\n",
       "    (bn1): BatchNorm1d(1024, eps=1e-05, momentum=0.1, affine=True, track_running_stats=True)\n",
       "    (dropout): Dropout(p=0.1, inplace=False)\n",
       "    (linear2): Linear(in_features=1024, out_features=1024, bias=True)\n",
       "    (relu2): ReLU()\n",
       "    (bn2): BatchNorm1d(1024, eps=1e-05, momentum=0.1, affine=True, track_running_stats=True)\n",
       "    (linear3): Linear(in_features=1024, out_features=256, bias=True)\n",
       "  )\n",
       ")"
      ]
     },
     "execution_count": 5,
     "metadata": {},
     "output_type": "execute_result"
    }
   ],
   "source": [
    "model = ExploreJEPA(image_size=65,\n",
    "                    encoding_hidden_dim=16,\n",
    "                    encoding_dim=256,\n",
    "                    encoding_layers=3)\n",
    "model.to(\"cuda\")"
   ]
  },
  {
   "cell_type": "code",
   "execution_count": 6,
   "id": "53429724-5f4e-4168-b63e-3d383aebedf5",
   "metadata": {},
   "outputs": [
    {
     "name": "stderr",
     "output_type": "stream",
     "text": [
      "/scratch/xy2053/2025SP/2572_DeepLearning/codes/dataset.py:32: UserWarning: The given NumPy array is not writable, and PyTorch does not support non-writable tensors. This means writing to this tensor will result in undefined behavior. You may want to copy the array to protect its data or make it writable before converting it to a tensor. This type of warning will be suppressed for the rest of this program. (Triggered internally at /opt/conda/conda-bld/pytorch_1729647327249/work/torch/csrc/utils/tensor_numpy.cpp:206.)\n",
      "  states = torch.from_numpy(self.states[i]).float().to(self.device)\n"
     ]
    }
   ],
   "source": [
    "criterion = nn.MSELoss()\n",
    "\n",
    "for data in train_loader:\n",
    "    states = data.states\n",
    "    actions = data.actions\n",
    "    p_s, e_s = model(states, actions)\n",
    "    c = criterion(p_s, e_s)\n",
    "    reg = torch.mean(p_s.var(dim=1)) + torch.mean(e_s.var(dim=1))\n",
    "    energy = c + reg\n",
    "    energy.backward()\n",
    "    \n",
    "    break"
   ]
  },
  {
   "cell_type": "code",
   "execution_count": 3,
   "id": "38c52616-3cab-44f9-9aa5-5e05ff71281c",
   "metadata": {},
   "outputs": [],
   "source": "from train import training_loop"
  },
  {
   "cell_type": "code",
   "execution_count": 4,
   "id": "79761d07-3f21-457d-af13-b2f003739bdd",
   "metadata": {},
   "outputs": [
    {
     "name": "stderr",
     "output_type": "stream",
     "text": [
      "  0%|          | 0/2297 [00:00<?, ?it/s]/scratch/xy2053/2025SP/2572_DeepLearning/codes/dataset.py:32: UserWarning: The given NumPy array is not writable, and PyTorch does not support non-writable tensors. This means writing to this tensor will result in undefined behavior. You may want to copy the array to protect its data or make it writable before converting it to a tensor. This type of warning will be suppressed for the rest of this program. (Triggered internally at /opt/conda/conda-bld/pytorch_1729647327249/work/torch/csrc/utils/tensor_numpy.cpp:206.)\n",
      "  states = torch.from_numpy(self.states[i]).float().to(self.device)\n",
      "  4%|▍         | 100/2297 [01:53<41:33,  1.14s/it, total energy: =4.54, mse loss:=6.29, reg loss:=2.79]\n"
     ]
    },
    {
     "ename": "KeyboardInterrupt",
     "evalue": "",
     "output_type": "error",
     "traceback": [
      "\u001B[0;31m---------------------------------------------------------------------------\u001B[0m",
      "\u001B[0;31mKeyboardInterrupt\u001B[0m                         Traceback (most recent call last)",
      "Cell \u001B[0;32mIn[4], line 15\u001B[0m\n\u001B[1;32m      9\u001B[0m model \u001B[38;5;241m=\u001B[39m ExploreJEPA(image_size\u001B[38;5;241m=\u001B[39m\u001B[38;5;241m65\u001B[39m,\n\u001B[1;32m     10\u001B[0m                     encoding_hidden_dim\u001B[38;5;241m=\u001B[39m\u001B[38;5;241m16\u001B[39m,\n\u001B[1;32m     11\u001B[0m                     encoding_dim\u001B[38;5;241m=\u001B[39m\u001B[38;5;241m256\u001B[39m,\n\u001B[1;32m     12\u001B[0m                     encoding_layers\u001B[38;5;241m=\u001B[39m\u001B[38;5;241m3\u001B[39m)\n\u001B[1;32m     13\u001B[0m model\u001B[38;5;241m.\u001B[39mto(\u001B[38;5;124m\"\u001B[39m\u001B[38;5;124mcuda\u001B[39m\u001B[38;5;124m\"\u001B[39m)\n\u001B[0;32m---> 15\u001B[0m train_model \u001B[38;5;241m=\u001B[39m \u001B[43mtraining_loop\u001B[49m\u001B[43m(\u001B[49m\u001B[43mmodel\u001B[49m\u001B[43m,\u001B[49m\u001B[43m \u001B[49m\u001B[43mepoch\u001B[49m\u001B[43m,\u001B[49m\u001B[43m \u001B[49m\u001B[43mlearning_rate\u001B[49m\u001B[43m,\u001B[49m\u001B[43m \u001B[49m\u001B[43mweight_decay\u001B[49m\u001B[43m,\u001B[49m\u001B[43m \u001B[49m\u001B[43mtrain_dataloader\u001B[49m\u001B[43m)\u001B[49m\n",
      "File \u001B[0;32m/scratch/xy2053/2025SP/2572_DeepLearning/codes/script/train.py:35\u001B[0m, in \u001B[0;36mtraining_loop\u001B[0;34m(model, epoch, learning_rate, weight_decay, train_loader)\u001B[0m\n\u001B[1;32m     32\u001B[0m energy, d, r \u001B[38;5;241m=\u001B[39m energy_function(criterion, predicted_s, encoded_s, lambda_d\u001B[38;5;241m=\u001B[39m\u001B[38;5;241m0.5\u001B[39m, lambda_r\u001B[38;5;241m=\u001B[39m\u001B[38;5;241m0.5\u001B[39m, beta_r\u001B[38;5;241m=\u001B[39m\u001B[38;5;241m-\u001B[39m\u001B[38;5;241m1.0\u001B[39m)\n\u001B[1;32m     34\u001B[0m optimizer\u001B[38;5;241m.\u001B[39mzero_grad()\n\u001B[0;32m---> 35\u001B[0m \u001B[43menergy\u001B[49m\u001B[38;5;241;43m.\u001B[39;49m\u001B[43mbackward\u001B[49m\u001B[43m(\u001B[49m\u001B[43m)\u001B[49m\n\u001B[1;32m     36\u001B[0m optimizer\u001B[38;5;241m.\u001B[39mstep()\n\u001B[1;32m     37\u001B[0m scheduler\u001B[38;5;241m.\u001B[39mstep()\n",
      "File \u001B[0;32m/ext3/miniconda3/envs/dl_base/lib/python3.9/site-packages/torch/_tensor.py:581\u001B[0m, in \u001B[0;36mTensor.backward\u001B[0;34m(self, gradient, retain_graph, create_graph, inputs)\u001B[0m\n\u001B[1;32m    571\u001B[0m \u001B[38;5;28;01mif\u001B[39;00m has_torch_function_unary(\u001B[38;5;28mself\u001B[39m):\n\u001B[1;32m    572\u001B[0m     \u001B[38;5;28;01mreturn\u001B[39;00m handle_torch_function(\n\u001B[1;32m    573\u001B[0m         Tensor\u001B[38;5;241m.\u001B[39mbackward,\n\u001B[1;32m    574\u001B[0m         (\u001B[38;5;28mself\u001B[39m,),\n\u001B[0;32m   (...)\u001B[0m\n\u001B[1;32m    579\u001B[0m         inputs\u001B[38;5;241m=\u001B[39minputs,\n\u001B[1;32m    580\u001B[0m     )\n\u001B[0;32m--> 581\u001B[0m \u001B[43mtorch\u001B[49m\u001B[38;5;241;43m.\u001B[39;49m\u001B[43mautograd\u001B[49m\u001B[38;5;241;43m.\u001B[39;49m\u001B[43mbackward\u001B[49m\u001B[43m(\u001B[49m\n\u001B[1;32m    582\u001B[0m \u001B[43m    \u001B[49m\u001B[38;5;28;43mself\u001B[39;49m\u001B[43m,\u001B[49m\u001B[43m \u001B[49m\u001B[43mgradient\u001B[49m\u001B[43m,\u001B[49m\u001B[43m \u001B[49m\u001B[43mretain_graph\u001B[49m\u001B[43m,\u001B[49m\u001B[43m \u001B[49m\u001B[43mcreate_graph\u001B[49m\u001B[43m,\u001B[49m\u001B[43m \u001B[49m\u001B[43minputs\u001B[49m\u001B[38;5;241;43m=\u001B[39;49m\u001B[43minputs\u001B[49m\n\u001B[1;32m    583\u001B[0m \u001B[43m\u001B[49m\u001B[43m)\u001B[49m\n",
      "File \u001B[0;32m/ext3/miniconda3/envs/dl_base/lib/python3.9/site-packages/torch/autograd/__init__.py:347\u001B[0m, in \u001B[0;36mbackward\u001B[0;34m(tensors, grad_tensors, retain_graph, create_graph, grad_variables, inputs)\u001B[0m\n\u001B[1;32m    342\u001B[0m     retain_graph \u001B[38;5;241m=\u001B[39m create_graph\n\u001B[1;32m    344\u001B[0m \u001B[38;5;66;03m# The reason we repeat the same comment below is that\u001B[39;00m\n\u001B[1;32m    345\u001B[0m \u001B[38;5;66;03m# some Python versions print out the first line of a multi-line function\u001B[39;00m\n\u001B[1;32m    346\u001B[0m \u001B[38;5;66;03m# calls in the traceback and some print out the last line\u001B[39;00m\n\u001B[0;32m--> 347\u001B[0m \u001B[43m_engine_run_backward\u001B[49m\u001B[43m(\u001B[49m\n\u001B[1;32m    348\u001B[0m \u001B[43m    \u001B[49m\u001B[43mtensors\u001B[49m\u001B[43m,\u001B[49m\n\u001B[1;32m    349\u001B[0m \u001B[43m    \u001B[49m\u001B[43mgrad_tensors_\u001B[49m\u001B[43m,\u001B[49m\n\u001B[1;32m    350\u001B[0m \u001B[43m    \u001B[49m\u001B[43mretain_graph\u001B[49m\u001B[43m,\u001B[49m\n\u001B[1;32m    351\u001B[0m \u001B[43m    \u001B[49m\u001B[43mcreate_graph\u001B[49m\u001B[43m,\u001B[49m\n\u001B[1;32m    352\u001B[0m \u001B[43m    \u001B[49m\u001B[43minputs\u001B[49m\u001B[43m,\u001B[49m\n\u001B[1;32m    353\u001B[0m \u001B[43m    \u001B[49m\u001B[43mallow_unreachable\u001B[49m\u001B[38;5;241;43m=\u001B[39;49m\u001B[38;5;28;43;01mTrue\u001B[39;49;00m\u001B[43m,\u001B[49m\n\u001B[1;32m    354\u001B[0m \u001B[43m    \u001B[49m\u001B[43maccumulate_grad\u001B[49m\u001B[38;5;241;43m=\u001B[39;49m\u001B[38;5;28;43;01mTrue\u001B[39;49;00m\u001B[43m,\u001B[49m\n\u001B[1;32m    355\u001B[0m \u001B[43m\u001B[49m\u001B[43m)\u001B[49m\n",
      "File \u001B[0;32m/ext3/miniconda3/envs/dl_base/lib/python3.9/site-packages/torch/autograd/graph.py:825\u001B[0m, in \u001B[0;36m_engine_run_backward\u001B[0;34m(t_outputs, *args, **kwargs)\u001B[0m\n\u001B[1;32m    823\u001B[0m     unregister_hooks \u001B[38;5;241m=\u001B[39m _register_logging_hooks_on_whole_graph(t_outputs)\n\u001B[1;32m    824\u001B[0m \u001B[38;5;28;01mtry\u001B[39;00m:\n\u001B[0;32m--> 825\u001B[0m     \u001B[38;5;28;01mreturn\u001B[39;00m \u001B[43mVariable\u001B[49m\u001B[38;5;241;43m.\u001B[39;49m\u001B[43m_execution_engine\u001B[49m\u001B[38;5;241;43m.\u001B[39;49m\u001B[43mrun_backward\u001B[49m\u001B[43m(\u001B[49m\u001B[43m  \u001B[49m\u001B[38;5;66;43;03m# Calls into the C++ engine to run the backward pass\u001B[39;49;00m\n\u001B[1;32m    826\u001B[0m \u001B[43m        \u001B[49m\u001B[43mt_outputs\u001B[49m\u001B[43m,\u001B[49m\u001B[43m \u001B[49m\u001B[38;5;241;43m*\u001B[39;49m\u001B[43margs\u001B[49m\u001B[43m,\u001B[49m\u001B[43m \u001B[49m\u001B[38;5;241;43m*\u001B[39;49m\u001B[38;5;241;43m*\u001B[39;49m\u001B[43mkwargs\u001B[49m\n\u001B[1;32m    827\u001B[0m \u001B[43m    \u001B[49m\u001B[43m)\u001B[49m  \u001B[38;5;66;03m# Calls into the C++ engine to run the backward pass\u001B[39;00m\n\u001B[1;32m    828\u001B[0m \u001B[38;5;28;01mfinally\u001B[39;00m:\n\u001B[1;32m    829\u001B[0m     \u001B[38;5;28;01mif\u001B[39;00m attach_logging_hooks:\n",
      "\u001B[0;31mKeyboardInterrupt\u001B[0m: "
     ]
    }
   ],
   "source": [
    "epoch = 10\n",
    "batch_size = 64\n",
    "\n",
    "learning_rate = 1e-4\n",
    "weight_decay = 1e-5\n",
    "\n",
    "train_dataloader = create_wall_dataloader(data_path=\"/scratch/DL25SP/train\", batch_size=batch_size)\n",
    "\n",
    "model = ExploreJEPA(image_size=65,\n",
    "                    encoding_hidden_dim=16,\n",
    "                    encoding_dim=256,\n",
    "                    encoding_layers=3)\n",
    "model.to(\"cuda\")\n",
    "\n",
    "train_model = training_loop(model, epoch, learning_rate, weight_decay, train_dataloader)"
   ]
  },
  {
   "cell_type": "code",
   "execution_count": null,
   "id": "b1a81e3d-e8c7-4f95-8119-5671bb95d866",
   "metadata": {},
   "outputs": [],
   "source": []
  }
 ],
 "metadata": {
  "kernelspec": {
   "display_name": "dl_base",
   "language": "python",
   "name": "dl_base"
  },
  "language_info": {
   "codemirror_mode": {
    "name": "ipython",
    "version": 3
   },
   "file_extension": ".py",
   "mimetype": "text/x-python",
   "name": "python",
   "nbconvert_exporter": "python",
   "pygments_lexer": "ipython3",
   "version": "3.9.0"
  }
 },
 "nbformat": 4,
 "nbformat_minor": 5
}
